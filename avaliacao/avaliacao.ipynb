{
 "cells": [
  {
   "cell_type": "markdown",
   "metadata": {},
   "source": [
    "# **PROJETO DE IMPLEMENTAÇÃO**\n",
    "\n",
    "- Arthur Francisco Ramos & Renato Leite Camilo\n",
    "- **Tema:** Ferramentas visando o DEIA (diversidade, equidade, igualdade e acessibilidade)\n",
    "\n",
    "Esse código-fonte é responsável pela avaliação e análise dos modelos de transcrição imagem/texto e texto/áudio, a implementação principal é um aplicativo _mobile_ desenvolvido usando Dart/Flutter e Flask (API)."
   ]
  },
  {
   "cell_type": "code",
   "execution_count": null,
   "metadata": {},
   "outputs": [],
   "source": []
  }
 ],
 "metadata": {
  "language_info": {
   "name": "python"
  }
 },
 "nbformat": 4,
 "nbformat_minor": 2
}
