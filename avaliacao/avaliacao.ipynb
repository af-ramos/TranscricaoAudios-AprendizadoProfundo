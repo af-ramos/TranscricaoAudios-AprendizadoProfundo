{
 "cells": [
  {
   "cell_type": "markdown",
   "metadata": {},
   "source": [
    "# **PROJETO DE IMPLEMENTAÇÃO**\n",
    "\n",
    "- Arthur Francisco Ramos & Renato Leite Camilo\n",
    "- **Tema:** Ferramentas visando o DEIA (diversidade, equidade, igualdade e acessibilidade)\n",
    "\n",
    "Esse código-fonte é responsável pela avaliação e análise dos modelos de transcrição imagem/texto e texto/áudio, a implementação principal é um aplicativo _mobile_ desenvolvido usando Dart/Flutter e Flask (API)."
   ]
  },
  {
   "cell_type": "code",
   "execution_count": 44,
   "metadata": {},
   "outputs": [],
   "source": [
    "import cv2\n",
    "import easyocr\n",
    "import pytesseract"
   ]
  },
  {
   "cell_type": "markdown",
   "metadata": {},
   "source": [
    "### **IMAGEM PARA TEXTO**"
   ]
  },
  {
   "cell_type": "markdown",
   "metadata": {},
   "source": [
    "#### EasyOCR"
   ]
  },
  {
   "cell_type": "code",
   "execution_count": 45,
   "metadata": {},
   "outputs": [],
   "source": [
    "imgName = 'crimeCastigo.jpg'\n",
    "\n",
    "img = cv2.imread(f'img/{imgName}')\n",
    "grayImg = cv2.cvtColor(img, cv2.COLOR_BGR2GRAY)"
   ]
  },
  {
   "cell_type": "code",
   "execution_count": 46,
   "metadata": {},
   "outputs": [
    {
     "name": "stdout",
     "output_type": "stream",
     "text": [
      "[([[266, 526], [464, 526], [464, 576], [266, 576]], 'FIÓDOR', 0.8069333035151646), ([[194, 578], [538, 578], [538, 628], [194, 628]], 'DOSTOIÉVSKI', 0.5823953771371908), ([[249, 673], [485, 673], [485, 735], [249, 735]], 'CRIME', 0.9998490190281614), ([[175, 757], [219, 757], [219, 805], [175, 805]], 'E', 0.9960390291394674), ([[243, 749], [561, 749], [561, 809], [243, 809]], 'CASTIGO', 0.9997687594779306), ([[202, 853], [526, 853], [526, 880], [202, 880]], 'TRADUÇÃO DE PAULO BEZERRA', 0.7916195566479676), ([[153, 885], [575, 885], [575, 905], [153, 905]], 'GRAVURAS DE EVANDRO CARLOS JARDIM', 0.9661635768069583), ([[269, 967], [385, 967], [385, 1000], [269, 1000]], 'editoral', 0.8527506919507244), ([[407, 961], [459, 961], [459, 1000], [407, 1000]], '134', 0.983146986157909)]\n"
     ]
    }
   ],
   "source": [
    "reader = easyocr.Reader(['pt'], gpu = True)\n",
    "results = reader.readtext(img)\n",
    "\n",
    "print(results)"
   ]
  },
  {
   "cell_type": "markdown",
   "metadata": {},
   "source": [
    "#### TESSERACT"
   ]
  },
  {
   "cell_type": "code",
   "execution_count": 47,
   "metadata": {},
   "outputs": [
    {
     "name": "stdout",
     "output_type": "stream",
     "text": [
      "FIÓDOR\n",
      "DOSTOIÉVSKI\n",
      "\n",
      "CRIME\n",
      "E CASTIGO\n",
      "\n",
      "TRADUÇÃO DE PAULO BEZERRA\n",
      "GRAVURAS DE EVANDRO CARLOS JARDIM\n",
      "\n",
      "editoral34\n",
      "\n"
     ]
    }
   ],
   "source": [
    "results = pytesseract.image_to_string(grayImg, lang = 'por')\n",
    "print(results)"
   ]
  },
  {
   "cell_type": "markdown",
   "metadata": {},
   "source": [
    "### **TEXTO PARA ÁUDIO**"
   ]
  },
  {
   "cell_type": "markdown",
   "metadata": {},
   "source": [
    "#### MODELO 1"
   ]
  },
  {
   "cell_type": "code",
   "execution_count": null,
   "metadata": {},
   "outputs": [],
   "source": []
  },
  {
   "cell_type": "markdown",
   "metadata": {},
   "source": [
    "#### MODELO 2"
   ]
  },
  {
   "cell_type": "code",
   "execution_count": null,
   "metadata": {},
   "outputs": [],
   "source": []
  }
 ],
 "metadata": {
  "kernelspec": {
   "display_name": "Python 3",
   "language": "python",
   "name": "python3"
  },
  "language_info": {
   "codemirror_mode": {
    "name": "ipython",
    "version": 3
   },
   "file_extension": ".py",
   "mimetype": "text/x-python",
   "name": "python",
   "nbconvert_exporter": "python",
   "pygments_lexer": "ipython3",
   "version": "3.12.3"
  }
 },
 "nbformat": 4,
 "nbformat_minor": 2
}
